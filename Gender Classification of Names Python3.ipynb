{
 "cells": [
  {
   "cell_type": "code",
   "execution_count": 18,
   "metadata": {},
   "outputs": [
    {
     "name": "stdout",
     "output_type": "stream",
     "text": [
      "0.7972789115646258\n",
      "0.8027210884353742\n",
      "0.8\n",
      "0.8024489795918367\n",
      "0.8043537414965987\n"
     ]
    }
   ],
   "source": [
    "import numpy as np\n",
    "from sklearn.model_selection import cross_val_score, train_test_split\n",
    "from sklearn.ensemble import RandomForestClassifier\n",
    "from sklearn import svm\n",
    "\n",
    "def name_count(name):\n",
    "    arr = np.zeros(3)\n",
    "    arr[0] = ord(chr(name[-1]))-ord('a')+1\n",
    "    arr[1] = ord(chr(name[-2]))-ord('a')+1\n",
    "    # Order of a's\n",
    "    for ind, x in enumerate(name):\n",
    "        if x == 'a':\n",
    "            arr[2] += ind+1\n",
    "    \n",
    "    return arr\n",
    "\n",
    "my_data = np.genfromtxt('yob2017.txt', \n",
    "                        delimiter=',', \n",
    "                        dtype=[('name','S50'), ('gender','S1'),('count','i4')],\n",
    "                        converters={0: lambda s:s.lower()})\n",
    "my_data = np.array([row for row in my_data if row[2]>=20])\n",
    "\n",
    "name_map = np.vectorize(name_count, otypes=[np.ndarray])\n",
    "Xlist = name_map(my_data['name'])\n",
    "X = np.array(Xlist.tolist())\n",
    "\n",
    "y = my_data['gender']\n",
    "\n",
    "for x in range(5):\n",
    "    Xtr, Xte, ytr, yte = train_test_split(X, y, test_size=0.33)\n",
    "    clf = RandomForestClassifier(n_estimators=150, min_samples_split=20)\n",
    "    clf.fit(Xtr, ytr)\n",
    "    print (np.mean(clf.predict(Xte) == yte) )\n",
    "    \n",
    "\n"
   ]
  },
  {
   "cell_type": "code",
   "execution_count": 29,
   "metadata": {},
   "outputs": [
    {
     "name": "stdout",
     "output_type": "stream",
     "text": [
      "boyd M M\n",
      "donavin M M\n",
      "meliah F F\n",
      "ameerah F F\n",
      "riyad M M\n",
      "dhruva M F\n",
      "jak M M\n",
      "janell F M\n",
      "evianna F F\n",
      "harlei F F\n",
      "phyllis F M\n",
      "lilyanna F F\n",
      "stratton M M\n",
      "merrick F M\n",
      "abby F M\n",
      "alexus F M\n",
      "charisma F F\n",
      "tara F F\n",
      "jahziel M M\n",
      "niall M M\n"
     ]
    }
   ],
   "source": [
    "def name_count(name):\n",
    "    arr = np.zeros(3)\n",
    "    arr[0] = ord(chr(name[-1]))-ord('a')+1\n",
    "    arr[1] = ord(chr(name[-2]))-ord('a')+1\n",
    "    # Order of a's\n",
    "    for ind, x in enumerate(name):\n",
    "        if x == 'a':\n",
    "            arr[2] += ind+1\n",
    "    \n",
    "    return arr\n",
    "\n",
    "my_data = np.genfromtxt('yob2017.txt', \n",
    "                        delimiter=',', \n",
    "                        dtype=[('name','S50'), ('gender','S1'),('count','i4')],\n",
    "                        converters={0: lambda s:s.lower()})\n",
    "my_data = np.array([row for row in my_data if row[2]>=20])\n",
    "name_map = np.vectorize(name_count, otypes=[np.ndarray])\n",
    "Xname = my_data['name']\n",
    "Xlist = name_map(Xname)\n",
    "X = np.array(Xlist.tolist())\n",
    "\n",
    "y = my_data['gender']\n",
    "\n",
    "Xtr, Xte, ytr, yte = train_test_split(X, y, test_size=0.33)\n",
    "clf = RandomForestClassifier(n_estimators=150, min_samples_split=20)\n",
    "clf.fit(Xtr, ytr)\n",
    "\n",
    "idx = np.random.choice(np.arange(len(Xlist)), 20, replace=False)\n",
    "xs = Xname[idx]\n",
    "ys = y[idx]\n",
    "pred = clf.predict(X[idx])\n",
    "\n",
    "for a,b, p in zip(xs,ys, pred):\n",
    "    print (a.decode(\"UTF-8\"),b.decode(\"UTF-8\"), p.decode(\"UTF-8\"))\n"
   ]
  },
  {
   "cell_type": "code",
   "execution_count": null,
   "metadata": {},
   "outputs": [],
   "source": []
  }
 ],
 "metadata": {
  "kernelspec": {
   "display_name": "Python 3",
   "language": "python",
   "name": "python3"
  },
  "language_info": {
   "codemirror_mode": {
    "name": "ipython",
    "version": 3
   },
   "file_extension": ".py",
   "mimetype": "text/x-python",
   "name": "python",
   "nbconvert_exporter": "python",
   "pygments_lexer": "ipython3",
   "version": "3.6.6"
  }
 },
 "nbformat": 4,
 "nbformat_minor": 1
}
